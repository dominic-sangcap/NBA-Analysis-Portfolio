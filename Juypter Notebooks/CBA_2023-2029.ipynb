{
 "cells": [
  {
   "cell_type": "code",
   "execution_count": 1,
   "metadata": {},
   "outputs": [],
   "source": [
    "##Whatever packages I need to run"
   ]
  },
  {
   "attachments": {},
   "cell_type": "markdown",
   "metadata": {},
   "source": [
    "New CBA Rules starting 2023-2024 season, Guranteed till 2028-2029 season"
   ]
  },
  {
   "attachments": {},
   "cell_type": "markdown",
   "metadata": {},
   "source": [
    "Noteable References <br>\n",
    "\n",
    "Second Tax Apron: <br>\n",
    "Teams $17.5 million over luxury tax have additional restricions <br>\n",
    "* cannot sign mid-level exceptions\n",
    "* cannot take 125% of outgoing salaries when sending out players\n",
    "* cannot trade first round picks that are seven years+ out\n",
    "* cannot trade cash in a deal\n",
    "* cannot sign buyout players\n",
    "\n",
    "Contract extensions: <br>\n",
    "Vet extensions increases from 120% to 140%\n",
    "\n",
    "Cap smoothing: <br>\n",
    "Salary cap rises 10% year to year throughout new CBA duration\n",
    "\n",
    "Award Voting: <br>\n",
    "* Players must appear in 65 to be eligible for awards\n",
    "* All three All-NBA and all All-Defensive Teams will be positionless\n",
    "\n",
    "In season tournament: <br>\n",
    "* 30 teams split into 6 inner-conferences, single round robin(amongst regular season game)\n",
    "* 6 group winners and 2 wild cards advance to 8 leg bracket(round of 8 and round of 4 will be within regular season games)\n",
    "* Winning Splits(Each player on winning team); 1st: 500k, 2nd 200k, 2nd round exit 100k, 1st round exit 50k"
   ]
  },
  {
   "attachments": {},
   "cell_type": "markdown",
   "metadata": {},
   "source": [
    "My First impressions:\n",
    "\n",
    "Second Tax Apron-<br>\n",
    "* I understand with 2022 GS Warriors having highest payroll and winning championship, a narrative/claim can be made that money buys championships and this hurts smaller market teams. I think this is a fair tax. The reality is some are more able and more willing to go into the luxury tax for even 1 championship within a 10, 20 even 30+ year span.\n",
    "* My only edge case concern would be; Is there a scenario where a team can become unable to have a 15 man roster? And assuming the possiblity of a third tax apron being needed in the future, what limitations are/aren't off limits?\n",
    "\n",
    "Contract Extensions-<br>\n",
    "* I will always be pro-\"get your bag\". For the sake of discussion, if a player is not expected to grow beyond the production of their prior contract, should they be eligible for the same contract extension?\n",
    "\n",
    "Cap smoothing-<br>\n",
    "* Makes sense, dont want 2016 all over again.\n",
    "* Is there a reason for teams to have every player they sign to have a increasing annual salary? <br> \n",
    "Ex. 4 yr 80m might look like;  Year 1: 17m, Year 2: 19m, Year 3: 21m, Year 4: 23m\n",
    "* Are you able to frontload a contract(reverse the salary alottment to a descending structure)? \n",
    "* I would assume to protect against the possiblity of trading said player, amongst other possibilities.\n",
    "\n",
    "Award voting-<br>\n",
    "* Personally I am a fan of these changes. I wanna look at All-NBA and seemingly get an idea of who the top \"15\" players in the league are. I quote because, I doubt that the percieved top 15 will get into 15 All-NBA spots. \n",
    "* For All-Defensive, was there position based-selection the previous years? If there was, excuse my ignorance because 5 on 5 defense, in different from 1 on 1, versus pick and roll, compared to help defense, etc... All this to say it probably should have been positionless for a while.\n",
    "* All-NBA being positionless might be bad and I hope I am wrong. Would I want to see 15 guards take up all the spots, or 15 wings, or 15 bigs....Probably not.\n",
    "* At least for the first team, I'd prefer a gurantee slot for best frontcourt, best backcourt(where players are probably eligible for multiple slots), and 3 wild cards.\n",
    "* Personally not the biggest fan of the 65 game minimum. I recognize this is to combat load management, however injuries happen amongst other circumstances. And no shade to future recipients, but a future where X-player(s) get ALL-NBA over a prime Steph, KD, Lebron, Jokic, Giannis bc they only appeared in 64 games.....enough said\n",
    "* Tie in the fact monetary incentives are tied to these awards, and how the top talent play within a fairly similar range of games amongst one another, I dont think a hard cap number of games is specifically necessary, but I do not think its the worst the to experiment on.\n",
    "\n",
    "In Season Tournament-<br>\n",
    "* That's a lot of money for just being on the team of a mid season contender.\n",
    "* I personally believe it adds complexity to the regular season, that will get overshadowed. Beyond the money, there is no incentive(since most of these games are regular season games anyways).\n",
    "* To spice it up, I think the winner(and maybe some runner-ups) should be guranteed draft capital: For playoff teams: guranteed 15th pick in upcoming draft, For lottery teams: guranteed Xth pick in upcoming draft.\n",
    "* It makes trading for a playoff team's pick a little more desirable as well as more leverage if they are serious contenders. And if a lottery team shows they are a winning franchise, it would be nice to know a team with an assumminlgy winning culture gets a higher draft pick."
   ]
  }
 ],
 "metadata": {
  "kernelspec": {
   "display_name": "Python 3",
   "language": "python",
   "name": "python3"
  },
  "language_info": {
   "codemirror_mode": {
    "name": "ipython",
    "version": 3
   },
   "file_extension": ".py",
   "mimetype": "text/x-python",
   "name": "python",
   "nbconvert_exporter": "python",
   "pygments_lexer": "ipython3",
   "version": "3.8.5"
  },
  "orig_nbformat": 4
 },
 "nbformat": 4,
 "nbformat_minor": 2
}
