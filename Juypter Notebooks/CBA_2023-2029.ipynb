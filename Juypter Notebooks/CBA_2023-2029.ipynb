{
 "cells": [
  {
   "cell_type": "code",
   "execution_count": 1,
   "metadata": {},
   "outputs": [],
   "source": [
    "##Whatever packages I need to run"
   ]
  },
  {
   "attachments": {},
   "cell_type": "markdown",
   "metadata": {},
   "source": [
    "New CBA Rules starting 2023-2024 season, Guranteed till 2028-2029 season"
   ]
  },
  {
   "attachments": {},
   "cell_type": "markdown",
   "metadata": {},
   "source": [
    "Noteable References <br>\n",
    "\n",
    "Second Tax Apron: <br>\n",
    "Teams $17.5 million over luxury tax have additional restricions <br>\n",
    "* cannot sign mid-level exceptions\n",
    "* cannot take 125% of outgoing salaries when sending out players\n",
    "* cannot trade first round picks that are seven years+ out\n",
    "* cannot trade cash in a deal\n",
    "* cannot sign buyout players\n",
    "\n",
    "Contract extensions: <br>\n",
    "Vet extensions increases from 120% to 140%\n",
    "\n",
    "Cap smoothing: <br>\n",
    "Salary cap rises 10% year to year throughout new CBA duration\n",
    "\n",
    "Award Voting: <br>\n",
    "* Players must appear in 65 to be eligible for awards\n",
    "* All three All-NBA and all All-Defensive Teams will be positionless\n",
    "\n",
    "In season tournament: <br>\n",
    "* 30 teams split into 6 inner-conferences, single round robin(amongst regular season game)\n",
    "* 6 group winners and 2 wild cards advance to 8 leg bracket(round of 8 and round of 4 will be within regular season games)\n",
    "* Winning Splits(Each player on winning team); 1st: 500k, 2nd 200k, 2nd round exit 100k, 1st round exit 50k"
   ]
  },
  {
   "attachments": {},
   "cell_type": "markdown",
   "metadata": {},
   "source": []
  }
 ],
 "metadata": {
  "kernelspec": {
   "display_name": "Python 3",
   "language": "python",
   "name": "python3"
  },
  "language_info": {
   "codemirror_mode": {
    "name": "ipython",
    "version": 3
   },
   "file_extension": ".py",
   "mimetype": "text/x-python",
   "name": "python",
   "nbconvert_exporter": "python",
   "pygments_lexer": "ipython3",
   "version": "3.8.5"
  },
  "orig_nbformat": 4
 },
 "nbformat": 4,
 "nbformat_minor": 2
}
